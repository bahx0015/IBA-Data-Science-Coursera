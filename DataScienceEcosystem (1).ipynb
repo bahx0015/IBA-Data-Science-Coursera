{
 "cells": [
  {
   "cell_type": "markdown",
   "id": "342ce2aa-0d86-41a1-82c6-f8cd2341e8e9",
   "metadata": {},
   "source": [
    "# Data Science Tools and Ecosystem "
   ]
  },
  {
   "cell_type": "markdown",
   "id": "94f4ba23-eea3-48f4-a032-e5148b6cd061",
   "metadata": {},
   "source": [
    "In this notebook, Data Science Tools and Ecosystem are summarized."
   ]
  },
  {
   "cell_type": "markdown",
   "id": "1476afcf-3f87-4b36-934e-e9b176b89336",
   "metadata": {},
   "source": [
    "Some of the popular languages that Data Scientists use are:\n",
    "1. Python\n",
    "2. R\n",
    "3. SQL"
   ]
  },
  {
   "cell_type": "markdown",
   "id": "88cde959-68e8-4d98-be6b-bd12924e5563",
   "metadata": {},
   "source": [
    "Some of the commonly used libraries used by Data Scientists include:\n",
    "1. NumPy\n",
    "2. Pandas\n",
    "3. SciPy"
   ]
  },
  {
   "cell_type": "markdown",
   "id": "ed290199-3698-4e39-a498-6d073f300d1e",
   "metadata": {},
   "source": [
    "| Data Science tools |\n",
    "|---------|\n",
    "|Jupyter Notebook|\n",
    "|R Studio|\n",
    "|Git Hub|"
   ]
  },
  {
   "cell_type": "markdown",
   "id": "c392f23f-76b6-44ce-bd95-718f5b7ecd09",
   "metadata": {},
   "source": [
    "### Below are a few examples of evaluating arithmetic expressions in Python."
   ]
  },
  {
   "cell_type": "code",
   "execution_count": 40,
   "id": "ca5e5423-d32d-4515-9df2-a7d16c9d08a3",
   "metadata": {},
   "outputs": [
    {
     "data": {
      "text/plain": [
       "17"
      ]
     },
     "execution_count": 40,
     "metadata": {},
     "output_type": "execute_result"
    }
   ],
   "source": [
    "#This is a simple arithmetic expression to multiply then add intergers\n",
    "(3*4)+5"
   ]
  },
  {
   "cell_type": "code",
   "execution_count": 42,
   "id": "9f3e7bd7-a8c9-44a9-ac1f-2a1f05293f52",
   "metadata": {},
   "outputs": [
    {
     "data": {
      "text/plain": [
       "3.3333333333333335"
      ]
     },
     "execution_count": 42,
     "metadata": {},
     "output_type": "execute_result"
    }
   ],
   "source": [
    "#This will convert 200 minutes to hours by dividing by 60\n",
    "200/60"
   ]
  },
  {
   "cell_type": "markdown",
   "id": "f0e1098a-584f-46c7-97d8-55dab93e16e4",
   "metadata": {},
   "source": [
    "##### Objectives:\n",
    "* List popular languages for Data Science\n",
    "* Learn how to create Markdown cells\n",
    "* List most popular libraries for Data Science\n"
   ]
  },
  {
   "cell_type": "markdown",
   "id": "036d1342-a74b-4a55-9e44-b25f4d23e3d1",
   "metadata": {},
   "source": [
    "## Author\n",
    "Tuan Bah"
   ]
  },
  {
   "cell_type": "markdown",
   "id": "f5b1ca1e-ce03-4730-9027-f4b8bfe8aed3",
   "metadata": {},
   "source": [
    "Git Hub: https://github.com/bahx0015/IBA-Data-Science-Coursera.git"
   ]
  },
  {
   "cell_type": "code",
   "execution_count": null,
   "id": "c772cfd6-b5f1-4f79-b22c-498031b28b9e",
   "metadata": {},
   "outputs": [],
   "source": []
  }
 ],
 "metadata": {
  "kernelspec": {
   "display_name": "Python [conda env:base] *",
   "language": "python",
   "name": "conda-base-py"
  },
  "language_info": {
   "codemirror_mode": {
    "name": "ipython",
    "version": 3
   },
   "file_extension": ".py",
   "mimetype": "text/x-python",
   "name": "python",
   "nbconvert_exporter": "python",
   "pygments_lexer": "ipython3",
   "version": "3.12.7"
  }
 },
 "nbformat": 4,
 "nbformat_minor": 5
}
